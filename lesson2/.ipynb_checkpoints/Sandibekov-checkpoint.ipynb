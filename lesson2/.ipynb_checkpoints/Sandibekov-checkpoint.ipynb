{
 "cells": [
  {
   "cell_type": "code",
   "execution_count": 1,
   "id": "e7a0c24b-89ba-418d-8597-5e5f24627b15",
   "metadata": {},
   "outputs": [
    {
     "name": "stdout",
     "output_type": "stream",
     "text": [
      "SSS\n"
     ]
    }
   ],
   "source": [
    "print (\"SSS\")"
   ]
  },
  {
   "cell_type": "code",
   "execution_count": 5,
   "id": "35b60c60-92b0-4e26-b29e-ccf343deb9de",
   "metadata": {},
   "outputs": [
    {
     "name": "stdout",
     "output_type": "stream",
     "text": [
      "1110\n"
     ]
    }
   ],
   "source": [
    "print(555+555)"
   ]
  },
  {
   "cell_type": "code",
   "execution_count": 7,
   "id": "9f27eea3-8bab-46a8-9f1c-0cb8e8e619d3",
   "metadata": {},
   "outputs": [
    {
     "name": "stdout",
     "output_type": "stream",
     "text": [
      "99999999999999999999999999999999999999999999999999899000000000000000000000000000000000000000000000000001\n"
     ]
    }
   ],
   "source": [
    "print(99999999999999999999999999999999999999999999999999999*999999999999999999999999999999999999999999999999999)"
   ]
  },
  {
   "cell_type": "code",
   "execution_count": 11,
   "id": "339c82c4-c4dd-4465-81d1-21bbc7502cd1",
   "metadata": {},
   "outputs": [],
   "source": [
    "i = 10"
   ]
  },
  {
   "cell_type": "code",
   "execution_count": 13,
   "id": "3884700f-ed96-4255-bd22-e0ece0afd790",
   "metadata": {},
   "outputs": [],
   "source": [
    "j = 10"
   ]
  },
  {
   "cell_type": "code",
   "execution_count": 15,
   "id": "8927500f-ee79-431b-982c-073ea60f269a",
   "metadata": {},
   "outputs": [
    {
     "name": "stdout",
     "output_type": "stream",
     "text": [
      "20\n"
     ]
    }
   ],
   "source": [
    "print(i+j)"
   ]
  },
  {
   "cell_type": "code",
   "execution_count": 17,
   "id": "f71b5403-a9d3-4b1e-843a-cee890522529",
   "metadata": {},
   "outputs": [],
   "source": [
    "a=11"
   ]
  },
  {
   "cell_type": "code",
   "execution_count": 19,
   "id": "1b29ba8a-1371-4b03-b9dd-ac5e92957976",
   "metadata": {},
   "outputs": [],
   "source": [
    "b=22"
   ]
  },
  {
   "cell_type": "code",
   "execution_count": 21,
   "id": "82ef9ce7-f6fa-4d18-a050-8ba1eef69a26",
   "metadata": {},
   "outputs": [],
   "source": [
    "d=33"
   ]
  },
  {
   "cell_type": "code",
   "execution_count": 23,
   "id": "b49b6241-e34e-4614-9549-15d35be77adb",
   "metadata": {},
   "outputs": [
    {
     "name": "stdout",
     "output_type": "stream",
     "text": [
      "66\n"
     ]
    }
   ],
   "source": [
    "print(a+b+d)"
   ]
  },
  {
   "cell_type": "code",
   "execution_count": 35,
   "id": "ee51e600-13c0-4381-a7c0-95ada901802d",
   "metadata": {},
   "outputs": [
    {
     "name": "stdin",
     "output_type": "stream",
     "text": [
      "san engiz: 5\n",
      "ekinshi san engiz: 5\n"
     ]
    },
    {
     "name": "stdout",
     "output_type": "stream",
     "text": [
      "zhauaby:\n",
      "10\n"
     ]
    }
   ],
   "source": [
    "user_input = input ('san engiz:')\n",
    "number = int(user_input)\n",
    "user_input2 = input ('ekinshi san engiz:')\n",
    "number2 = int(user_input2)\n",
    "print('zhauaby:')\n",
    "print(number+number2)"
   ]
  },
  {
   "cell_type": "code",
   "execution_count": null,
   "id": "230a723f-3407-4c95-bf8c-3977ac8aa573",
   "metadata": {},
   "outputs": [],
   "source": []
  },
  {
   "cell_type": "code",
   "execution_count": 51,
   "id": "2b8f8c0e-cb1d-4ab7-9419-8836de4070d8",
   "metadata": {},
   "outputs": [
    {
     "name": "stdin",
     "output_type": "stream",
     "text": [
      "san engiz: 5\n",
      "tanba engiz +\n",
      "ekinshi san engiz: 9\n"
     ]
    },
    {
     "name": "stdout",
     "output_type": "stream",
     "text": [
      "14\n"
     ]
    }
   ],
   "source": [
    "user_input = input ('san engiz:')\n",
    "number = int(user_input)\n",
    "user_input3 = input ('tanba engiz')\n",
    "user_input2 = input ('ekinshi san engiz:')\n",
    "number2 = int(user_input2)\n",
    "if(user_input3 == '+'):\n",
    "    print(number + number2)"
   ]
  },
  {
   "cell_type": "code",
   "execution_count": null,
   "id": "cfb34148-166d-4d46-bfc8-057100a57fb0",
   "metadata": {},
   "outputs": [],
   "source": [
    "sunduk = ['alma', 'almurt', 'banan']\n",
    "for i in range( 100 ):\n",
    "    for veshi in sunduk:\n",
    "        print( veshi )"
   ]
  },
  {
   "cell_type": "code",
   "execution_count": null,
   "id": "f5a0c666-378d-4372-a5a7-f183b70df69b",
   "metadata": {},
   "outputs": [],
   "source": []
  }
 ],
 "metadata": {
  "kernelspec": {
   "display_name": "Python 3 (ipykernel)",
   "language": "python",
   "name": "python3"
  },
  "language_info": {
   "codemirror_mode": {
    "name": "ipython",
    "version": 3
   },
   "file_extension": ".py",
   "mimetype": "text/x-python",
   "name": "python",
   "nbconvert_exporter": "python",
   "pygments_lexer": "ipython3",
   "version": "3.12.4"
  }
 },
 "nbformat": 4,
 "nbformat_minor": 5
}
